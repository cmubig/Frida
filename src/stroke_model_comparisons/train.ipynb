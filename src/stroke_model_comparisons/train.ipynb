{
 "cells": [
  {
   "cell_type": "code",
   "execution_count": 15,
   "metadata": {},
   "outputs": [],
   "source": [
    "import glob\n",
    "import os\n",
    "import numpy as np\n",
    "import gzip\n",
    "import torch\n",
    "import pickle\n",
    "import sys\n",
    "\n",
    "sys.path.append(os.path.abspath('..'))\n",
    "from brush_stroke import BrushStroke"
   ]
  },
  {
   "cell_type": "code",
   "execution_count": 22,
   "metadata": {},
   "outputs": [],
   "source": [
    "cache_dir = '../caches/vae_sharpie_final'\n",
    "canvases_before_fns = glob.glob(os.path.join(cache_dir, 'stroke_library', 'canvases_before_*.npy'))\n",
    "canvases_after_fns = glob.glob(os.path.join(cache_dir, 'stroke_library', 'canvases_after_*.npy'))\n",
    "brush_strokes_fns = glob.glob(os.path.join(cache_dir, 'stroke_library', 'stroke_parameters*.npy'))\n",
    "\n",
    "# Ensure each of the files is in the order they were recorded in\n",
    "canvases_before_fns = sorted(canvases_before_fns)\n",
    "canvases_after_fns = sorted(canvases_after_fns)\n",
    "brush_strokes_fns = sorted(brush_strokes_fns)\n",
    "\n",
    "# canvases_before_fns = canvases_before_fns[:5]\n",
    "# canvases_after_fns = canvases_after_fns[:5]\n",
    "# brush_strokes_fns = brush_strokes_fns[:5]\n",
    "\n",
    "# Load data\n",
    "canvases_before = None\n",
    "for canvases_before_fn in canvases_before_fns:\n",
    "    with gzip.GzipFile(canvases_before_fn,'r') as f:\n",
    "        s = np.load(f, allow_pickle=True).astype(np.float32)/255.\n",
    "        canvases_before = s if canvases_before is None else np.concatenate([canvases_before, s])\n",
    "\n",
    "canvases_after = None\n",
    "for canvases_after_fn in canvases_after_fns:\n",
    "    with gzip.GzipFile(canvases_after_fn,'r') as f:\n",
    "        s = np.load(f, allow_pickle=True).astype(np.float32)/255.\n",
    "        canvases_after = s if canvases_after is None else np.concatenate([canvases_after, s])\n",
    "\n",
    "brush_strokes = []\n",
    "for brush_strokes_fn in brush_strokes_fns:\n",
    "    bs = pickle.load(open(brush_strokes_fn,'rb'))\n",
    "    brush_strokes = bs if brush_strokes is None else np.concatenate([brush_strokes, bs]) \n",
    "for b in brush_strokes:\n",
    "    b.vae_name = os.path.join('..', b.vae_name)\n",
    "\n",
    "canvases_before = torch.from_numpy(canvases_before).float().nan_to_num()\n",
    "canvases_after = torch.from_numpy(canvases_after).float().nan_to_num()\n"
   ]
  },
  {
   "cell_type": "code",
   "execution_count": 23,
   "metadata": {},
   "outputs": [
    {
     "name": "stdout",
     "output_type": "stream",
     "text": [
      "tensor([[-1.2691e-05,  8.9658e-05,  4.9973e-01],\n",
      "        [ 7.9976e-04, -6.0354e-04,  4.9960e-01],\n",
      "        [ 7.6303e-04, -3.7051e-04,  4.9968e-01],\n",
      "        [ 1.4289e-03, -7.5248e-04,  4.9965e-01],\n",
      "        [ 1.4223e-03, -7.1237e-04,  4.9971e-01],\n",
      "        [ 1.4802e-03, -8.0017e-04,  4.9979e-01],\n",
      "        [ 1.3464e-03, -4.3342e-04,  4.9965e-01],\n",
      "        [ 1.2246e-03,  7.5196e-05,  4.9974e-01],\n",
      "        [ 1.3953e-03,  6.4637e-04,  4.9963e-01],\n",
      "        [ 1.2644e-03,  6.6098e-04,  4.9964e-01],\n",
      "        [ 1.6413e-03,  5.8826e-04,  4.9974e-01],\n",
      "        [ 1.9706e-03,  1.4933e-04,  4.9987e-01],\n",
      "        [ 2.3659e-03, -5.8358e-05,  5.0005e-01],\n",
      "        [ 2.8813e-03, -1.0251e-04,  4.9971e-01],\n",
      "        [ 3.1437e-03,  1.6410e-04,  4.9953e-01],\n",
      "        [ 3.3022e-03,  5.9253e-04,  4.9974e-01],\n",
      "        [ 3.2514e-03,  8.8850e-04,  4.9967e-01],\n",
      "        [ 3.2943e-03,  1.0550e-03,  4.9973e-01],\n",
      "        [ 3.3285e-03,  1.1234e-03,  4.9997e-01],\n",
      "        [ 3.6624e-03,  1.0834e-03,  4.9954e-01],\n",
      "        [ 4.1929e-03,  1.0169e-03,  4.9975e-01],\n",
      "        [ 4.7268e-03,  1.1230e-03,  4.9954e-01],\n",
      "        [ 5.3785e-03,  1.1292e-03,  4.9982e-01],\n",
      "        [ 5.7559e-03,  1.1882e-03,  4.9990e-01],\n",
      "        [ 5.9561e-03,  1.3119e-03,  4.9955e-01],\n",
      "        [ 5.8304e-03,  1.5590e-03,  4.9963e-01],\n",
      "        [ 5.7747e-03,  1.7002e-03,  4.9976e-01],\n",
      "        [ 6.0038e-03,  1.7147e-03,  4.9960e-01],\n",
      "        [ 6.5102e-03,  1.7270e-03,  4.9980e-01],\n",
      "        [ 7.1860e-03,  1.3913e-03,  4.9985e-01],\n",
      "        [ 7.7087e-03,  4.6463e-04,  4.9985e-01],\n",
      "        [ 8.2829e-03, -7.5724e-06,  4.9972e-01]], grad_fn=<CopySlices>)\n"
     ]
    }
   ],
   "source": [
    "print(brush_strokes[0].get_path())"
   ]
  }
 ],
 "metadata": {
  "kernelspec": {
   "display_name": "frida",
   "language": "python",
   "name": "python3"
  },
  "language_info": {
   "codemirror_mode": {
    "name": "ipython",
    "version": 3
   },
   "file_extension": ".py",
   "mimetype": "text/x-python",
   "name": "python",
   "nbconvert_exporter": "python",
   "pygments_lexer": "ipython3",
   "version": "3.11.3"
  }
 },
 "nbformat": 4,
 "nbformat_minor": 2
}
