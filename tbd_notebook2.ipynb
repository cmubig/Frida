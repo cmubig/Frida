{
 "cells": [
  {
   "cell_type": "code",
   "execution_count": null,
   "metadata": {},
   "outputs": [],
   "source": [
    "%load_ext tensorboard\n",
    "\n",
    "!cd src"
   ]
  },
  {
   "cell_type": "code",
   "execution_count": null,
   "metadata": {},
   "outputs": [],
   "source": [
    "import time\n",
    "\n",
    "images_array = [\"rainforest.jpg\", \"frida.jpg\"]\n",
    "audio_array = [\"../audio/audiosample/fire.wav\", \"../audio/audiosample/giggling.wav\"]\n",
    "\n",
    "audio_loss_weight = [0, 0.1, 0.2, 0.5, 0.6, 0.8, 0.9, 1.0]\n",
    "clip_conv_loss_weight = [1.0, 0.9, 0.8, 0.5, 0.4, 0.2, 0.1, 0]\n",
    "\n",
    "num_interpolations = len(audio_loss_weight)\n",
    "\n",
    "for count, (img, audio) in enumerate(zip(images_array, audio_array)):\n",
    "    img = img.split('/')[-1]\n",
    "    for i in range(num_interpolations):\n",
    "        print(\"---------Image---------\")\n",
    "        print(img)\n",
    "        print(\"---------Audio---------\")\n",
    "        print(audio)\n",
    "        print(\"---------Audio Loss Weight---------\")\n",
    "        print(audio_loss_weight[i])\n",
    "        print(\"---------Clip Conv Loss Weight---------\")\n",
    "        print(clip_conv_loss_weight[i])\n",
    "        !python plan.py --simulate --max_height 256 --use_cache --cache_dir cache/ --n_stroke_models 1 \\\n",
    "        --objective audio clip_conv_loss \\\n",
    "        --objective_data $img $img \\\n",
    "        --objective_weight {audio_loss_weight[i]} {clip_conv_loss_weight[i]} \\\n",
    "        --audio_path $audio \\\n",
    "        --lr_multiplier 0.4 \\\n",
    "        --n_inits 1 \\\n",
    "        --num_strokes 1200 --optim_iter 800 \\\n",
    "        --n_colors 30 \\\n",
    "        --intermediate_optim_iter 50 \\\n",
    "        --output_dir ../output/image_{count}/interpolations/interpolation_{i} \\\n"
   ]
  }
 ],
 "metadata": {
  "kernelspec": {
   "display_name": "Python 3.6.8 64-bit",
   "language": "python",
   "name": "python3"
  },
  "language_info": {
   "name": "python",
   "version": "3.6.8"
  },
  "orig_nbformat": 4,
  "vscode": {
   "interpreter": {
    "hash": "30295c5bec572e859485b1ffa5e89b8b3e2022ef6e3e739c1ac40f143a557caf"
   }
  }
 },
 "nbformat": 4,
 "nbformat_minor": 2
}
