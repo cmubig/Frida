{
  "cells": [
    {
      "cell_type": "markdown",
      "metadata": {
        "id": "x1gH5JHtJFpM"
      },
      "source": [
        "# FRIDA: A Collaborative Robot Painter with a Differentiable, Real2Sim2Real Planning Environment\n",
        "\n",
        "#### [Peter Schaldenbrand](https://pschaldenbrand.github.io/#about.html), [Jean Oh](https://www.cs.cmu.edu/~./jeanoh/), [Jim McCann](http://www.cs.cmu.edu/~jmccann/)\n",
        "#### The Robotics Institute, Carnegie Mellon University\n",
        "\n",
        "There's code for multiple different painting tasks below. Feel free to take a look at the command line arguments to change parameters such as the number of brush strokes used or number of optimization iterations."
      ]
    },
    {
      "cell_type": "markdown",
      "metadata": {
        "id": "8AayW146DEtQ"
      },
      "source": [
        "# Installation"
      ]
    },
    {
      "cell_type": "code",
      "execution_count": null,
      "metadata": {
        "id": "o7Yaz_mHd856"
      },
      "outputs": [],
      "source": [
        "%load_ext tensorboard"
      ]
    },
    {
      "cell_type": "code",
      "execution_count": null,
      "metadata": {
        "id": "5Zg1NkcFtxiJ",
        "outputId": "772679d1-5d04-4b1e-e893-f9f4f196f2a5",
        "colab": {
          "base_uri": "https://localhost:8080/"
        }
      },
      "outputs": [
        {
          "output_type": "stream",
          "name": "stdout",
          "text": [
            "Cloning into 'Frida'...\n",
            "remote: Enumerating objects: 2435, done.\u001b[K\n",
            "remote: Counting objects: 100% (394/394), done.\u001b[K\n",
            "remote: Compressing objects: 100% (252/252), done.\u001b[K\n",
            "remote: Total 2435 (delta 145), reused 383 (delta 140), pack-reused 2041\u001b[K\n",
            "Receiving objects: 100% (2435/2435), 874.95 MiB | 28.27 MiB/s, done.\n",
            "Resolving deltas: 100% (1105/1105), done.\n"
          ]
        }
      ],
      "source": [
        "!git clone https://github.com/pschaldenbrand/Frida.git"
      ]
    },
    {
      "cell_type": "code",
      "execution_count": null,
      "metadata": {
        "id": "YtSZDWJCuJcr",
        "outputId": "60fad4f4-ab78-49b1-9f20-55890b125d5b",
        "colab": {
          "base_uri": "https://localhost:8080/"
        }
      },
      "outputs": [
        {
          "output_type": "stream",
          "name": "stdout",
          "text": [
            "/content/Frida/src\n"
          ]
        }
      ],
      "source": [
        "cd /content/Frida/src"
      ]
    },
    {
      "cell_type": "code",
      "execution_count": null,
      "metadata": {
        "id": "ndcmbL50bkpF",
        "outputId": "a2ffb98e-3233-45d9-9dfe-e3aca343fe23",
        "colab": {
          "base_uri": "https://localhost:8080/"
        }
      },
      "outputs": [
        {
          "output_type": "stream",
          "name": "stdout",
          "text": [
            "From https://github.com/pschaldenbrand/Frida\n",
            " * branch            master     -> FETCH_HEAD\n",
            "Already up to date.\n"
          ]
        }
      ],
      "source": [
        "!git pull origin master"
      ]
    },
    {
      "cell_type": "code",
      "execution_count": null,
      "metadata": {
        "id": "5C8L5-BUurOd"
      },
      "outputs": [],
      "source": [
        "!python -m pip install -r ../requirements.txt"
      ]
    },
    {
      "cell_type": "code",
      "execution_count": null,
      "metadata": {
        "id": "9PzePMg7z3yi"
      },
      "outputs": [],
      "source": [
        "!mkdir painting"
      ]
    },
    {
      "cell_type": "code",
      "execution_count": null,
      "metadata": {
        "id": "d4FBidAo1FI5"
      },
      "outputs": [],
      "source": [
        "import requests\n",
        "import PIL\n",
        "from io import BytesIO\n",
        "def save_image_from_internet(url, fn):\n",
        "    response = requests.get(url)\n",
        "    img = PIL.Image.open(BytesIO(response.content))\n",
        "    img = img.convert('RGB')\n",
        "    img.save(fn)"
      ]
    },
    {
      "cell_type": "markdown",
      "metadata": {
        "id": "dNghMlAVDRVp"
      },
      "source": [
        "# Paint :]"
      ]
    },
    {
      "cell_type": "code",
      "execution_count": null,
      "metadata": {
        "cellView": "form",
        "id": "lgoGlPdMuO-6"
      },
      "outputs": [],
      "source": [
        "#@title # Conceptually Paint a Reference Image\n",
        "#@markdown Paint from a source image using feature space loss.\n",
        "#@markdown Features are extracted from the last convolutional layer of CLIP.\n",
        "\n",
        "#@markdown Provide the URL to an image you'd like to paint\n",
        "\n",
        "image = \"https://cdn.homeandmoney.com/wp-content/uploads/2022/05/31113751/Pittsburgh_FeaturedImg-1.jpg\" #@param {type:\"string\"}\n",
        "\n",
        "!wget $image\n",
        "image = image.split('/')[-1]\n",
        "\n",
        "%tensorboard --logdir /content/Frida/src/painting_log\n",
        "!python paint.py \\\n",
        "        --simulate \\\n",
        "        --render_height 256 \\\n",
        "        --use_cache \\\n",
        "        --cache_dir caches/small_brush  \\\n",
        "        --dont_retrain_stroke_model \\\n",
        "        --objective clip_conv_loss \\\n",
        "        --objective_data $image  \\\n",
        "        --objective_weight 1.0 \\\n",
        "        --lr_multiplier 0.4 \\\n",
        "        --num_strokes 800 \\\n",
        "        --optim_iter 400 \\\n",
        "        --n_colors 30"
      ]
    },
    {
      "cell_type": "code",
      "execution_count": null,
      "metadata": {
        "cellView": "form",
        "id": "e6M3PenXq0o_"
      },
      "outputs": [],
      "source": [
        "#@title # Paint from Style and Text Input\n",
        "\n",
        "#@markdown Paint based off of an example style (give a URL) and a language description of the painting\n",
        "\n",
        "style_image = \"https://media.newyorker.com/photos/5a82035156b75c08a3e5b5b4/4:3/w_2043,h_1532,c_limit/Cunningham-Obama-Kehinde-Wiley.jpg\" #@param {type:\"string\"}\n",
        "text_description = \"A portrait of Samuel L Jackson smiling\" #@param {type:\"string\"}\n",
        "\n",
        "save_image_from_internet(style_image, 'input0.png')\n",
        "\n",
        "%tensorboard --logdir /content/Frida/src/painting_log\n",
        "!python paint.py --simulate \\\n",
        "        --render_height 360 \\\n",
        "        --use_cache \\\n",
        "        --cache_dir caches/small_brush/ \\\n",
        "        --dont_retrain_stroke_model \\\n",
        "        --objective style text \\\n",
        "        --objective_data input0.png \"$text_description\" \\\n",
        "        --objective_weight 0.2 1.0 \\\n",
        "        --lr_multiplier 0.4 \\\n",
        "        --num_strokes 800 \\\n",
        "        --optim_iter 300 \\\n",
        "        --n_colors 30"
      ]
    },
    {
      "cell_type": "code",
      "execution_count": null,
      "metadata": {
        "cellView": "form",
        "id": "lHiOoY4K3icS"
      },
      "outputs": [],
      "source": [
        "#@title # Sketch2Painting with Style and Language Guidance\n",
        "\n",
        "#@markdown Paint based off of a sketch to guide composition. Also give an example style and text description to help fill in details.\n",
        "\n",
        "sketch = \"https://as2.ftcdn.net/v2/jpg/02/75/70/77/500_F_275707791_2M7x7kOugTyRtsBCrrqpD1fYoLMMEkC7.jpg\" #@param {type:\"string\"}\n",
        "style_image = \"https://uploads1.wikiart.org/images/norman-rockwell/ghostly-gourds.jpg!Large.jpg\" #@param {type:\"string\"}\n",
        "text_description = \"Laura Dern flexin'\" #@param {type:\"string\"}\n",
        "\n",
        "save_image_from_internet(style_image, 'input0.png')\n",
        "\n",
        "!wget $sketch\n",
        "sketch = sketch.split('/')[-1]\n",
        "\n",
        "%tensorboard --logdir /content/Frida/src/painting_log\n",
        "!python paint.py --simulate \\\n",
        "        --render_height 360 \\\n",
        "        --use_cache --cache_dir caches/small_brush/ \\\n",
        "        --dont_retrain_stroke_model \\\n",
        "        --objective clip_conv_loss style text \\\n",
        "        --objective_data \"$sketch\" input0.png \"$text_description\" \\\n",
        "        --objective_weight 0.7 0.5 1.0 \\\n",
        "        --lr_multiplier 0.4 \\\n",
        "        --num_strokes 600 \\\n",
        "        --optim_iter 300 \\\n",
        "        --n_colors 30"
      ]
    },
    {
      "cell_type": "code",
      "execution_count": null,
      "metadata": {
        "cellView": "form",
        "id": "mTbu9MSYyw6D"
      },
      "outputs": [],
      "source": [
        "#@title # Image Editing via Language\n",
        "\n",
        "#@markdown Paint a given image with an edit that you describe\n",
        "\n",
        "image = \"https://media.istockphoto.com/id/1188963977/photo/portrait-of-an-adorable-mixed-breed-dog-looking-seriously-at-the-camera.jpg?s=612x612&w=0&k=20&c=VHDavgJwsu567cxVeIILCd2wEb7HB3teyupS7kpL4Fk=\" #@param {type:\"string\"}\n",
        "text_edit = \"The dog is happy\" #@param {type:\"string\"}\n",
        "\n",
        "save_image_from_internet(image, 'input0.png')\n",
        "\n",
        "%tensorboard --logdir /content/Frida/src/painting_log\n",
        "!python paint.py --simulate \\\n",
        "        --render_height 256 --use_cache \\\n",
        "        --cache_dir caches/small_brush/ \\\n",
        "        --dont_retrain_stroke_model \\\n",
        "        --objective clip_fc_loss text \\\n",
        "        --objective_data input0.png \"$text_edit\" \\\n",
        "        --objective_weight 0.2 1.0 \\\n",
        "        --lr_multiplier 0.4 \\\n",
        "        --num_strokes 800 \\\n",
        "        --optim_iter 300 \\\n",
        "        --n_colors 30"
      ]
    },
    {
      "cell_type": "code",
      "execution_count": null,
      "metadata": {
        "cellView": "form",
        "id": "ho4FZIlX2yOX"
      },
      "outputs": [],
      "source": [
        "#@title # Paint from an Image with Euclidean Distance\n",
        "#@markdown Paint from a source image as exactly as possible.\n",
        "#@markdown The algorithm tries to minimize the $L_2$ distance between the painting and the source iamge.\n",
        "\n",
        "#@markdown Provide the URL to an image you'd like to paint\n",
        "\n",
        "image = \"https://cdn.homeandmoney.com/wp-content/uploads/2022/05/31113751/Pittsburgh_FeaturedImg-1.jpg\" #@param {type:\"string\"}\n",
        "\n",
        "save_image_from_internet(image, 'input0.png')\n",
        "\n",
        "%tensorboard --logdir /content/Frida/src/painting_log\n",
        "!python paint.py --simulate \\\n",
        "        --render_height 256 --use_cache \\\n",
        "        --cache_dir caches/small_brush/ \\\n",
        "        --dont_retrain_stroke_model \\\n",
        "        --objective l2 \\\n",
        "        --objective_data input0.png  \\\n",
        "        --objective_weight 1.0 \\\n",
        "        --lr_multiplier 0.4 \\\n",
        "        --num_strokes 800 --optim_iter 400 \\\n",
        "        --n_colors 30"
      ]
    },
    {
      "cell_type": "code",
      "source": [
        "#@title # Draw with Ink\n",
        "#@markdown Paint from a source image using feature space loss.\n",
        "#@markdown Features are extracted from the last convolutional layer of CLIP.\n",
        "\n",
        "#@markdown Provide the URL to an image you'd like to paint\n",
        "\n",
        "image = \"https://cdn.homeandmoney.com/wp-content/uploads/2022/05/31113751/Pittsburgh_FeaturedImg-1.jpg\" #@param {type:\"string\"}\n",
        "\n",
        "!wget $image\n",
        "image = image.split('/')[-1]\n",
        "\n",
        "%tensorboard --logdir /content/Frida/src/painting_log\n",
        "!python paint.py --simulate \\\n",
        "        --render_height 256 \\\n",
        "        --use_cache \\\n",
        "        --dont_retrain_stroke_model \\\n",
        "        --cache_dir caches/sharpie_short_strokes \\\n",
        "        --objective clip_conv_loss \\\n",
        "        --objective_data $image  \\\n",
        "        --objective_weight 1.0 \\\n",
        "        --lr_multiplier 0.8 \\\n",
        "        --num_strokes 200 \\\n",
        "        --optim_iter 400 \\\n",
        "        --ink"
      ],
      "metadata": {
        "cellView": "form",
        "id": "rF_doFI--wPv"
      },
      "execution_count": null,
      "outputs": []
    }
  ],
  "metadata": {
    "accelerator": "GPU",
    "colab": {
      "collapsed_sections": [
        "8AayW146DEtQ"
      ],
      "provenance": []
    },
    "gpuClass": "standard",
    "kernelspec": {
      "display_name": "Python 3.8.12 ('paint')",
      "language": "python",
      "name": "python3"
    },
    "language_info": {
      "codemirror_mode": {
        "name": "ipython",
        "version": 3
      },
      "file_extension": ".py",
      "mimetype": "text/x-python",
      "name": "python",
      "nbconvert_exporter": "python",
      "pygments_lexer": "ipython3",
      "version": "3.8.13"
    },
    "vscode": {
      "interpreter": {
        "hash": "3074106803b07dc939ee5092e243a9cb934849e47ba0e44776dc7afb3d90da72"
      }
    }
  },
  "nbformat": 4,
  "nbformat_minor": 0
}