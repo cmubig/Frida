{
  "nbformat": 4,
  "nbformat_minor": 0,
  "metadata": {
    "colab": {
      "provenance": [],
      "collapsed_sections": [
        "8AayW146DEtQ"
      ],
      "authorship_tag": "ABX9TyN8f3JXgLVuwUCtbTBmsJHC",
      "include_colab_link": true
    },
    "kernelspec": {
      "name": "python3",
      "display_name": "Python 3"
    },
    "language_info": {
      "name": "python"
    },
    "accelerator": "GPU",
    "gpuClass": "standard"
  },
  "cells": [
    {
      "cell_type": "markdown",
      "metadata": {
        "id": "view-in-github",
        "colab_type": "text"
      },
      "source": [
        "<a href=\"https://colab.research.google.com/github/pschaldenbrand/Frida/blob/master/Frida.ipynb\" target=\"_parent\"><img src=\"https://colab.research.google.com/assets/colab-badge.svg\" alt=\"Open In Colab\"/></a>"
      ]
    },
    {
      "cell_type": "markdown",
      "source": [
        "# FRIDA: A Collaborative Robot Painter with a Differentiable, Real2Sim2Real Planning Environment\n",
        "\n",
        "#### [Peter Schaldenbrand](https://pschaldenbrand.github.io/#about.html), [Jean Oh](https://www.cs.cmu.edu/~./jeanoh/), [Jim McCann](http://www.cs.cmu.edu/~jmccann/)\n",
        "#### The Robotics Institute, Carnegie Mellon University\n",
        "\n",
        "There's code for multiple different painting tasks below. Feel free to take a look at the command line arguments to change parameters such as the number of brush strokes used or number of optimization iterations."
      ],
      "metadata": {
        "id": "x1gH5JHtJFpM"
      }
    },
    {
      "cell_type": "markdown",
      "source": [
        "# Installation"
      ],
      "metadata": {
        "id": "8AayW146DEtQ"
      }
    },
    {
      "cell_type": "code",
      "source": [
        "%load_ext tensorboard"
      ],
      "metadata": {
        "id": "o7Yaz_mHd856"
      },
      "execution_count": null,
      "outputs": []
    },
    {
      "cell_type": "code",
      "source": [
        "!git clone https://github.com/pschaldenbrand/Frida.git"
      ],
      "metadata": {
        "id": "5Zg1NkcFtxiJ"
      },
      "execution_count": null,
      "outputs": []
    },
    {
      "cell_type": "code",
      "source": [
        "cd /content/Frida/src"
      ],
      "metadata": {
        "id": "YtSZDWJCuJcr"
      },
      "execution_count": null,
      "outputs": []
    },
    {
      "cell_type": "code",
      "source": [
        "!git pull origin master"
      ],
      "metadata": {
        "id": "ndcmbL50bkpF"
      },
      "execution_count": null,
      "outputs": []
    },
    {
      "cell_type": "code",
      "source": [
        "!python -m pip install -r ../requirements.txt             \n",
        "!python -m pip install -r ../requirements_python3.txt     "
      ],
      "metadata": {
        "id": "5C8L5-BUurOd"
      },
      "execution_count": null,
      "outputs": []
    },
    {
      "cell_type": "code",
      "source": [
        "!mkdir painting"
      ],
      "metadata": {
        "id": "9PzePMg7z3yi"
      },
      "execution_count": null,
      "outputs": []
    },
    {
      "cell_type": "code",
      "source": [
        "import requests\n",
        "import PIL\n",
        "from io import BytesIO\n",
        "def save_image_from_internet(url, fn):\n",
        "    response = requests.get(url)\n",
        "    img = PIL.Image.open(BytesIO(response.content))\n",
        "    img = img.convert('RGB')\n",
        "    img.save(fn)"
      ],
      "metadata": {
        "id": "d4FBidAo1FI5"
      },
      "execution_count": null,
      "outputs": []
    },
    {
      "cell_type": "markdown",
      "source": [
        "# Paint :]"
      ],
      "metadata": {
        "id": "dNghMlAVDRVp"
      }
    },
    {
      "cell_type": "code",
      "source": [
        "#@title # Conceptually Paint a Reference Image \n",
        "#@markdown Paint from a source image using feature space loss. \n",
        "#@markdown Features are extracted from the last convolutional layer of CLIP.\n",
        "\n",
        "#@markdown Provide the URL to an image you'd like to paint\n",
        "\n",
        "image = \"https://cdn.homeandmoney.com/wp-content/uploads/2022/05/31113751/Pittsburgh_FeaturedImg-1.jpg\" #@param {type:\"string\"}\n",
        "\n",
        "!wget $image\n",
        "image = image.split('/')[-1]\n",
        "\n",
        "%tensorboard --logdir /content/Frida/src/painting \n",
        "!python plan.py --simulate --max_height 256 --use_cache --cache_dir cache/ --n_stroke_models 1 \\\n",
        "        --objective clip_conv_loss \\\n",
        "        --objective_data $image  \\\n",
        "        --objective_weight 1.0 \\\n",
        "        --lr_multiplier 0.4 \\\n",
        "        --n_init 0 \\\n",
        "        --num_strokes 800 --optim_iter 400 \\\n",
        "        --n_colors 30"
      ],
      "metadata": {
        "cellView": "form",
        "id": "lgoGlPdMuO-6"
      },
      "execution_count": null,
      "outputs": []
    },
    {
      "cell_type": "code",
      "source": [
        "#@title # Paint from Style and Text Input\n",
        "\n",
        "#@markdown Paint based off of an example style (give a URL) and a language description of the painting\n",
        "\n",
        "style_image = \"https://media.newyorker.com/photos/5a82035156b75c08a3e5b5b4/4:3/w_2043,h_1532,c_limit/Cunningham-Obama-Kehinde-Wiley.jpg\" #@param {type:\"string\"}\n",
        "text_description = \"A portrait of Kanye West smiling\" #@param {type:\"string\"}\n",
        "\n",
        "save_image_from_internet(style_image, 'input0.png')\n",
        "\n",
        "%tensorboard --logdir /content/Frida/src/painting \n",
        "!python plan.py --simulate --max_height 360 --use_cache --cache_dir cache/ --n_stroke_models 1 \\\n",
        "        --init_objective l2 --init_objective_data input0.png \\\n",
        "        --init_objective_weight 1.0 \\\n",
        "        --init_optim_iter  40 \\\n",
        "        --objective style text \\\n",
        "        --objective_data input0.png \"$text_description\" \\\n",
        "        --objective_weight 0.2 1.0 \\\n",
        "        --lr_multiplier 0.4 \\\n",
        "        --n_init 3 \\\n",
        "        --num_strokes 800 --optim_iter 300 \\\n",
        "        --n_colors 30"
      ],
      "metadata": {
        "cellView": "form",
        "id": "e6M3PenXq0o_"
      },
      "execution_count": null,
      "outputs": []
    },
    {
      "cell_type": "code",
      "source": [
        "#@title # Sketch2Painting with Style and Language Guidance\n",
        "\n",
        "#@markdown Paint based off of a sketch to guide composition. Also give an example style and text description to help fill in details.\n",
        "\n",
        "sketch = \"https://as2.ftcdn.net/v2/jpg/02/75/70/77/500_F_275707791_2M7x7kOugTyRtsBCrrqpD1fYoLMMEkC7.jpg\" #@param {type:\"string\"}\n",
        "style_image = \"https://uploads1.wikiart.org/images/norman-rockwell/ghostly-gourds.jpg!Large.jpg\" #@param {type:\"string\"}\n",
        "text_description = \"Laura Dern flexin'\" #@param {type:\"string\"}\n",
        "\n",
        "save_image_from_internet(style_image, 'input0.png')\n",
        "\n",
        "!wget $sketch\n",
        "sketch = sketch.split('/')[-1]\n",
        "\n",
        "%tensorboard --logdir /content/Frida/src/painting \n",
        "!python plan.py --simulate --max_height 360 --use_cache --cache_dir cache/ --n_stroke_models 1 \\\n",
        "        --objective clip_conv_loss style text \\\n",
        "        --objective_data \"$sketch\" input0.png \"$text_description\" \\\n",
        "        --objective_weight 0.7 0.5 1.0 \\\n",
        "        --lr_multiplier 0.4 \\\n",
        "        --n_init 0 \\\n",
        "        --num_strokes 800 --optim_iter 300 \\\n",
        "        --n_colors 30"
      ],
      "metadata": {
        "cellView": "form",
        "id": "lHiOoY4K3icS"
      },
      "execution_count": null,
      "outputs": []
    },
    {
      "cell_type": "code",
      "source": [
        "#@title # Image Editing via Language\n",
        "\n",
        "#@markdown Paint a given image with an edit that you describe\n",
        "\n",
        "image = \"https://vetstreet.brightspotcdn.com/dims4/default/ed822f6/2147483647/thumbnail/645x380/quality/90/?url=https%3A%2F%2Fvetstreet-brightspot.s3.amazonaws.com%2F75%2F371580ca7a11e0ad9e12313817c323%2Ffile%2FBeagle-1-645mk062311.jpg\" #@param {type:\"string\"}\n",
        "text_edit = \"The dog is happy\" #@param {type:\"string\"}\n",
        "\n",
        "save_image_from_internet(image, 'input0.png')\n",
        "\n",
        "%tensorboard --logdir /content/Frida/src/painting \n",
        "!python plan.py --simulate --max_height 256 --use_cache --cache_dir cache/ --n_stroke_models 1 \\\n",
        "        --init_objective l2 --init_objective_data input0.png \\\n",
        "        --init_objective_weight 1.0 \\\n",
        "        --init_optim_iter  40 \\\n",
        "        --objective clip_fc_loss text \\\n",
        "        --objective_data input0.png \"$text_edit\" \\\n",
        "        --objective_weight 0.2 1.0 \\\n",
        "        --lr_multiplier 0.4 \\\n",
        "        --n_init 0 \\\n",
        "        --num_strokes 800 --optim_iter 300 \\\n",
        "        --n_colors 30"
      ],
      "metadata": {
        "id": "mTbu9MSYyw6D",
        "cellView": "form"
      },
      "execution_count": null,
      "outputs": []
    },
    {
      "cell_type": "code",
      "source": [
        "#@title # Paint from an Image with Euclidean Distance\n",
        "#@markdown Paint from a source image as exactly as possible.\n",
        "#@markdown The algorithm tries to minimize the $L_2$ distance between the painting and the source iamge.\n",
        "\n",
        "#@markdown Provide the URL to an image you'd like to paint\n",
        "\n",
        "image = \"https://cdn.homeandmoney.com/wp-content/uploads/2022/05/31113751/Pittsburgh_FeaturedImg-1.jpg\" #@param {type:\"string\"}\n",
        "\n",
        "save_image_from_internet(image, 'input0.png')\n",
        "\n",
        "%tensorboard --logdir /content/Frida/src/painting \n",
        "!python plan.py --simulate --max_height 256 --use_cache --cache_dir cache/ --n_stroke_models 1 \\\n",
        "        --objective l2 \\\n",
        "        --objective_data input0.png  \\\n",
        "        --objective_weight 1.0 \\\n",
        "        --lr_multiplier 0.4 \\\n",
        "        --n_init 0 \\\n",
        "        --num_strokes 800 --optim_iter 400 \\\n",
        "        --n_colors 30"
      ],
      "metadata": {
        "cellView": "form",
        "id": "ho4FZIlX2yOX"
      },
      "execution_count": null,
      "outputs": []
    },
    {
      "cell_type": "code",
      "source": [
        " # Generalized Execution\n",
        " %tensorboard --logdir /content/Frida/src/painting --reload_interval 10 --reload_multifile True\n",
        "!python plan.py --simulate --max_height 196 --use_cache --cache_dir cache/ --n_stroke_models 1 \\\n",
        "        --init_objective clip_conv_loss --init_objective_data frida.jpg --init_objective_weight 1.0 \\\n",
        "        --init_optim_iter  40 \\\n",
        "        --objective clip_conv_loss \\\n",
        "        --objective_data frida.jpg \\\n",
        "        --objective_weight 1.0 \\\n",
        "        --lr_multiplier 0.3 \\\n",
        "        --n_init 1\\\n",
        "        --num_strokes 800 --optim_iter 800 \\\n",
        "        --n_colors 12"
      ],
      "metadata": {
        "id": "ZSA1HzVxgq6j"
      },
      "execution_count": null,
      "outputs": []
    }
  ]
}